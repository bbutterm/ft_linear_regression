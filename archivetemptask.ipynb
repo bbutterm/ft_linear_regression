{
 "cells": [
  {
   "cell_type": "markdown",
   "metadata": {},
   "source": [
    "###### Linear regression: $y_i = b \\cdot x_i + a + \\varepsilon_i$\n",
    "\n",
    "Our aim is to minimize function $F = \\Sigma_i (y_i - a - bx_i)^2$ where $a, b$ are vars. \n",
    "\n",
    "As F is a 2 parameter function of paraboloic type it has ONE global minima.\n",
    "\n",
    "It could be found via\n",
    "system of equations: $F'_a = 0$ and $F'_b = 0$.\n"
   ]
  },
  {
   "cell_type": "code",
   "execution_count": 1,
   "metadata": {},
   "outputs": [],
   "source": [
    "import pandas as pd\n",
    "import numpy as np\n",
    "import matplotlib.pyplot as plt"
   ]
  },
  {
   "cell_type": "code",
   "execution_count": 2,
   "metadata": {
    "scrolled": true
   },
   "outputs": [
    {
     "data": {
      "text/html": [
       "<div>\n",
       "<style scoped>\n",
       "    .dataframe tbody tr th:only-of-type {\n",
       "        vertical-align: middle;\n",
       "    }\n",
       "\n",
       "    .dataframe tbody tr th {\n",
       "        vertical-align: top;\n",
       "    }\n",
       "\n",
       "    .dataframe thead th {\n",
       "        text-align: right;\n",
       "    }\n",
       "</style>\n",
       "<table border=\"1\" class=\"dataframe\">\n",
       "  <thead>\n",
       "    <tr style=\"text-align: right;\">\n",
       "      <th></th>\n",
       "      <th>km</th>\n",
       "      <th>price</th>\n",
       "    </tr>\n",
       "  </thead>\n",
       "  <tbody>\n",
       "    <tr>\n",
       "      <th>0</th>\n",
       "      <td>240000</td>\n",
       "      <td>3650</td>\n",
       "    </tr>\n",
       "    <tr>\n",
       "      <th>1</th>\n",
       "      <td>139800</td>\n",
       "      <td>3800</td>\n",
       "    </tr>\n",
       "    <tr>\n",
       "      <th>2</th>\n",
       "      <td>150500</td>\n",
       "      <td>4400</td>\n",
       "    </tr>\n",
       "    <tr>\n",
       "      <th>3</th>\n",
       "      <td>185530</td>\n",
       "      <td>4450</td>\n",
       "    </tr>\n",
       "    <tr>\n",
       "      <th>4</th>\n",
       "      <td>176000</td>\n",
       "      <td>5250</td>\n",
       "    </tr>\n",
       "  </tbody>\n",
       "</table>\n",
       "</div>"
      ],
      "text/plain": [
       "       km  price\n",
       "0  240000   3650\n",
       "1  139800   3800\n",
       "2  150500   4400\n",
       "3  185530   4450\n",
       "4  176000   5250"
      ]
     },
     "execution_count": 2,
     "metadata": {},
     "output_type": "execute_result"
    }
   ],
   "source": [
    "df = pd.read_csv(\"data.csv\")\n",
    "df.head() "
   ]
  },
  {
   "cell_type": "code",
   "execution_count": 3,
   "metadata": {},
   "outputs": [],
   "source": [
    "##########################\n",
    "# These are GLOBAL coefs #\n",
    "# for linear regression  #\n",
    "##########################\n",
    "\n",
    "theta0 = 0\n",
    "theta1 = 0"
   ]
  },
  {
   "cell_type": "code",
   "execution_count": 4,
   "metadata": {},
   "outputs": [],
   "source": [
    "#######################\n",
    "# Actual linear model #\n",
    "# for prediction      #\n",
    "#######################\n",
    "\n",
    "def EvalPrice(mileage):\n",
    "    global theta0, theta1\n",
    "    \n",
    "    #################\n",
    "    # Y = t1 * X + t0\n",
    "    return theta0 + theta1 * mileage"
   ]
  },
  {
   "cell_type": "code",
   "execution_count": 5,
   "metadata": {},
   "outputs": [
    {
     "name": "stdout",
     "output_type": "stream",
     "text": [
      "123\n",
      "predicted price: 0\n"
     ]
    }
   ],
   "source": [
    "#############\n",
    "# Predictor #\n",
    "#############\n",
    "\n",
    "mileage = int(input())\n",
    "print(\"predicted price: {}\".format(EvalPrice(mileage)))"
   ]
  },
  {
   "cell_type": "code",
   "execution_count": 6,
   "metadata": {
    "scrolled": true
   },
   "outputs": [],
   "source": [
    "#############################\n",
    "# Learner (fit the model...)#\n",
    "#############################\n",
    "\n",
    "# Unused vars ??????\n",
    "maxTrainIterations = 1000\n",
    "learningRate = 0.1\n",
    "\n",
    "\n",
    "def Fit(df_path):\n",
    "    ###############################\n",
    "    # Extern globals for project...\n",
    "    global theta0, theta1, learningRate, maxTrainIterations\n",
    "    \n",
    "    df = pd.read_csv(df_path)\n",
    "    x = df['km']\n",
    "    y = df['price']\n",
    "    plt.scatter(x, y, alpha=0.5)\n",
    "    \n",
    "    ####################\n",
    "    # scatter before fit\n",
    "    oldPredictorX = [a for a in range(30000, 250000, 1000)]\n",
    "    oldPredictorY = [EvalPrice(a) for a in oldPredictorX]\n",
    "    plt.scatter(oldPredictorX, oldPredictorY, alpha=0.5)\n",
    "    \n",
    "    #####\n",
    "    # fit\n",
    "    tmp_theta1 = np.cov(df['km'],  df['price'])[0][1] / np.var(df['km'])\n",
    "    tmp_theta0 = np.mean(df['price']) - tmp_theta1 * np.mean(df['km'])\n",
    "        \n",
    "    theta0 = tmp_theta0\n",
    "    theta1 = tmp_theta1\n",
    "\n",
    "    ###################\n",
    "    # scatter after fit\n",
    "    oldPredictorX = [a for a in range(30000, 250000, 1000)]\n",
    "    oldPredictorY = [EvalPrice(a) for a in oldPredictorX]\n",
    "    plt.scatter(oldPredictorX, oldPredictorY, alpha=0.5)\n",
    "    \n",
    "    ###########\n",
    "    # show plot\n",
    "    plt.show()\n",
    "    df['price_pred'] = df['km'].apply(lambda x: EvalPrice(x))    \n",
    "    print(\"Model precision: \" , round(np.sqrt(np.mean((df['price_pred'] - df['price']) ** 2)), 2))"
   ]
  },
  {
   "cell_type": "code",
   "execution_count": 7,
   "metadata": {},
   "outputs": [
    {
     "data": {
      "image/png": "[encoded data removed]",
      "text/plain": [
       "<Figure size 432x288 with 1 Axes>"
      ]
     },
     "metadata": {
      "needs_background": "light"
     },
     "output_type": "display_data"
    },
    {
     "name": "stdout",
     "output_type": "stream",
     "text": [
      "Model precision:  669.3\n"
     ]
    }
   ],
   "source": [
    "Fit(\"data.csv\")"
   ]
  }
 ],
 "metadata": {
  "kernelspec": {
   "display_name": "Python 3",
   "language": "python",
   "name": "python3"
  },
  "language_info": {
   "codemirror_mode": {
    "name": "ipython",
    "version": 3
   },
   "file_extension": ".py",
   "mimetype": "text/x-python",
   "name": "python",
   "nbconvert_exporter": "python",
   "pygments_lexer": "ipython3",
   "version": "3.7.8"
  }
 },
 "nbformat": 4,
 "nbformat_minor": 2
}
